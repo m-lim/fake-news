{
 "cells": [
  {
   "cell_type": "markdown",
   "metadata": {
    "id": "cnHsLjs9jpVE"
   },
   "source": [
    "# Fake news detection\n",
    "## Logistic regression with feature extraction"
   ]
  },
  {
   "cell_type": "markdown",
   "metadata": {
    "id": "FZvYEqPrjtTR"
   },
   "source": [
    "### Setup"
   ]
  },
  {
   "cell_type": "code",
   "execution_count": 1,
   "metadata": {
    "colab": {
     "base_uri": "https://localhost:8080/"
    },
    "id": "EKb0TpM5ek9-",
    "outputId": "4a803957-73e0-41ad-eb1a-46dde6754918"
   },
   "outputs": [
    {
     "name": "stderr",
     "output_type": "stream",
     "text": [
      "[nltk_data] Downloading package stopwords to\n",
      "[nltk_data]     C:\\Users\\User\\AppData\\Roaming\\nltk_data...\n",
      "[nltk_data]   Package stopwords is already up-to-date!\n",
      "[nltk_data] Downloading package punkt to\n",
      "[nltk_data]     C:\\Users\\User\\AppData\\Roaming\\nltk_data...\n",
      "[nltk_data]   Package punkt is already up-to-date!\n",
      "[nltk_data] Downloading package averaged_perceptron_tagger to\n",
      "[nltk_data]     C:\\Users\\User\\AppData\\Roaming\\nltk_data...\n",
      "[nltk_data]   Package averaged_perceptron_tagger is already up-to-\n",
      "[nltk_data]       date!\n",
      "[nltk_data] Downloading package wordnet to\n",
      "[nltk_data]     C:\\Users\\User\\AppData\\Roaming\\nltk_data...\n",
      "[nltk_data]   Package wordnet is already up-to-date!\n"
     ]
    }
   ],
   "source": [
    "import pandas as pd\n",
    "import numpy as np\n",
    "import string\n",
    "import re\n",
    "\n",
    "import nltk\n",
    "nltk.download('stopwords')\n",
    "nltk.download('punkt')\n",
    "nltk.download('averaged_perceptron_tagger')\n",
    "nltk.download('wordnet')\n",
    "from nltk.corpus import stopwords, wordnet\n",
    "from nltk.stem import WordNetLemmatizer\n",
    "from nltk.tokenize import word_tokenize, sent_tokenize\n",
    "from nltk.probability import FreqDist\n",
    "\n",
    "from sklearn import linear_model, metrics\n",
    "from sklearn.feature_extraction.text import CountVectorizer, TfidfVectorizer\n",
    "from sklearn.decomposition import LatentDirichletAllocation, NMF\n",
    "from sklearn.metrics import f1_score, accuracy_score\n",
    "\n",
    "from wordcloud import WordCloud, STOPWORDS"
   ]
  },
  {
   "cell_type": "markdown",
   "metadata": {
    "id": "IlRC_spfjyOd"
   },
   "source": [
    "### Feature engineering"
   ]
  },
  {
   "cell_type": "code",
   "execution_count": 2,
   "metadata": {
    "id": "TAtWXctKvizK"
   },
   "outputs": [],
   "source": [
    "train = pd.read_csv(\"data/train.csv\")\n",
    "test = pd.read_csv(\"data/test.csv\")\n",
    "\n",
    "train.columns = [\"text\", \"label\"]\n",
    "test.columns = [\"label\", \"text\"]\n",
    "\n",
    "train = train[train['label'] != \"Label\"]\n",
    "test = test[test['label'] != \"Label\"]"
   ]
  },
  {
   "cell_type": "code",
   "execution_count": 3,
   "metadata": {
    "colab": {
     "base_uri": "https://localhost:8080/"
    },
    "id": "HX_uqNGevqee",
    "outputId": "16123a4f-1672-4e27-f61b-488a8039e172"
   },
   "outputs": [
    {
     "name": "stdout",
     "output_type": "stream",
     "text": [
      "(79522, 2)\n",
      "(7011, 2)\n"
     ]
    }
   ],
   "source": [
    "print(train.shape)\n",
    "print(test.shape)"
   ]
  },
  {
   "cell_type": "code",
   "execution_count": 4,
   "metadata": {
    "colab": {
     "base_uri": "https://localhost:8080/",
     "height": 203
    },
    "id": "a9lHikaWgBvG",
    "outputId": "920801b4-fdd1-435c-b558-78d3c9dc3aae"
   },
   "outputs": [
    {
     "data": {
      "text/html": [
       "<div>\n",
       "<style scoped>\n",
       "    .dataframe tbody tr th:only-of-type {\n",
       "        vertical-align: middle;\n",
       "    }\n",
       "\n",
       "    .dataframe tbody tr th {\n",
       "        vertical-align: top;\n",
       "    }\n",
       "\n",
       "    .dataframe thead th {\n",
       "        text-align: right;\n",
       "    }\n",
       "</style>\n",
       "<table border=\"1\" class=\"dataframe\">\n",
       "  <thead>\n",
       "    <tr style=\"text-align: right;\">\n",
       "      <th></th>\n",
       "      <th>text</th>\n",
       "      <th>label</th>\n",
       "    </tr>\n",
       "  </thead>\n",
       "  <tbody>\n",
       "    <tr>\n",
       "      <th>0</th>\n",
       "      <td>Report: War Looms - Hundreds of American Troop...</td>\n",
       "      <td>0</td>\n",
       "    </tr>\n",
       "    <tr>\n",
       "      <th>1</th>\n",
       "      <td>I walked through a preview of the artist Pedro...</td>\n",
       "      <td>1</td>\n",
       "    </tr>\n",
       "    <tr>\n",
       "      <th>2</th>\n",
       "      <td>Neo-Con Hypocrites Leverage Human Rights Again...</td>\n",
       "      <td>0</td>\n",
       "    </tr>\n",
       "    <tr>\n",
       "      <th>3</th>\n",
       "      <td>A giant beef roast for the holidays is, for ma...</td>\n",
       "      <td>1</td>\n",
       "    </tr>\n",
       "    <tr>\n",
       "      <th>4</th>\n",
       "      <td>Seeking to appeal to guestsâ€™ desire for new ...</td>\n",
       "      <td>1</td>\n",
       "    </tr>\n",
       "  </tbody>\n",
       "</table>\n",
       "</div>"
      ],
      "text/plain": [
       "                                                text label\n",
       "0  Report: War Looms - Hundreds of American Troop...     0\n",
       "1  I walked through a preview of the artist Pedro...     1\n",
       "2  Neo-Con Hypocrites Leverage Human Rights Again...     0\n",
       "3  A giant beef roast for the holidays is, for ma...     1\n",
       "4  Seeking to appeal to guestsâ€™ desire for new ...     1"
      ]
     },
     "execution_count": 4,
     "metadata": {},
     "output_type": "execute_result"
    }
   ],
   "source": [
    "train.head()"
   ]
  },
  {
   "cell_type": "code",
   "execution_count": 5,
   "metadata": {
    "id": "t_jK-dItxMwi"
   },
   "outputs": [],
   "source": [
    "# Remove non-ACSII characters\n",
    "\n",
    "train[\"text\"] = train[\"text\"].apply(lambda x: x.encode(\"ascii\", errors=\"ignore\").decode())\n",
    "test[\"text\"] = test[\"text\"].apply(lambda x: x.encode(\"ascii\", errors=\"ignore\").decode())"
   ]
  },
  {
   "cell_type": "code",
   "execution_count": 6,
   "metadata": {
    "colab": {
     "base_uri": "https://localhost:8080/",
     "height": 203
    },
    "id": "zEw3IId0z2D2",
    "outputId": "8738bdf0-9453-4685-abbb-64cb6442fc28"
   },
   "outputs": [
    {
     "data": {
      "text/html": [
       "<div>\n",
       "<style scoped>\n",
       "    .dataframe tbody tr th:only-of-type {\n",
       "        vertical-align: middle;\n",
       "    }\n",
       "\n",
       "    .dataframe tbody tr th {\n",
       "        vertical-align: top;\n",
       "    }\n",
       "\n",
       "    .dataframe thead th {\n",
       "        text-align: right;\n",
       "    }\n",
       "</style>\n",
       "<table border=\"1\" class=\"dataframe\">\n",
       "  <thead>\n",
       "    <tr style=\"text-align: right;\">\n",
       "      <th></th>\n",
       "      <th>text</th>\n",
       "      <th>label</th>\n",
       "      <th>text_length</th>\n",
       "    </tr>\n",
       "  </thead>\n",
       "  <tbody>\n",
       "    <tr>\n",
       "      <th>0</th>\n",
       "      <td>Report: War Looms - Hundreds of American Troop...</td>\n",
       "      <td>0</td>\n",
       "      <td>3940</td>\n",
       "    </tr>\n",
       "    <tr>\n",
       "      <th>1</th>\n",
       "      <td>I walked through a preview of the artist Pedro...</td>\n",
       "      <td>1</td>\n",
       "      <td>6707</td>\n",
       "    </tr>\n",
       "    <tr>\n",
       "      <th>2</th>\n",
       "      <td>Neo-Con Hypocrites Leverage Human Rights Again...</td>\n",
       "      <td>0</td>\n",
       "      <td>3443</td>\n",
       "    </tr>\n",
       "    <tr>\n",
       "      <th>3</th>\n",
       "      <td>A giant beef roast for the holidays is, for ma...</td>\n",
       "      <td>1</td>\n",
       "      <td>3365</td>\n",
       "    </tr>\n",
       "    <tr>\n",
       "      <th>4</th>\n",
       "      <td>Seeking to appeal to guests desire for new exp...</td>\n",
       "      <td>1</td>\n",
       "      <td>5574</td>\n",
       "    </tr>\n",
       "  </tbody>\n",
       "</table>\n",
       "</div>"
      ],
      "text/plain": [
       "                                                text label  text_length\n",
       "0  Report: War Looms - Hundreds of American Troop...     0         3940\n",
       "1  I walked through a preview of the artist Pedro...     1         6707\n",
       "2  Neo-Con Hypocrites Leverage Human Rights Again...     0         3443\n",
       "3  A giant beef roast for the holidays is, for ma...     1         3365\n",
       "4  Seeking to appeal to guests desire for new exp...     1         5574"
      ]
     },
     "execution_count": 6,
     "metadata": {},
     "output_type": "execute_result"
    }
   ],
   "source": [
    "# Calculate text length\n",
    "\n",
    "train[\"text_length\"] = train[\"text\"].apply(lambda x: len(x))\n",
    "test[\"text_length\"] = test[\"text\"].apply(lambda x: len(x))\n",
    "\n",
    "train.head()"
   ]
  },
  {
   "cell_type": "code",
   "execution_count": 7,
   "metadata": {
    "id": "pYpZtDEVjZxZ"
   },
   "outputs": [],
   "source": [
    "# Calculate number of sentences\n",
    "\n",
    "train['num_sentences'] = train['text'].apply(lambda x: len(sent_tokenize(x)))\n",
    "test['num_sentences'] = test['text'].apply(lambda x: len(sent_tokenize(x)))"
   ]
  },
  {
   "cell_type": "code",
   "execution_count": 8,
   "metadata": {
    "id": "X-wuzepslFk_"
   },
   "outputs": [],
   "source": [
    "# Count number of exclamation and question marks\n",
    "\n",
    "train[\"num_exclamation\"] = train[\"text\"].apply(lambda x: x.count(\"!\"))\n",
    "test[\"num_exclamation\"] = test[\"text\"].apply(lambda x: x.count(\"!\"))\n",
    "\n",
    "train[\"num_question\"] = train[\"text\"].apply(lambda x: x.count(\"?\"))\n",
    "test[\"num_question\"] = test[\"text\"].apply(lambda x: x.count(\"?\"))"
   ]
  },
  {
   "cell_type": "code",
   "execution_count": 9,
   "metadata": {
    "id": "j86untXngG3I"
   },
   "outputs": [],
   "source": [
    "# Remove symbols and punctuations\n",
    "\n",
    "def remove_symbols(text):\n",
    "    clean = re.sub('[-=+,#/\\?:^$.@*\\\"※~&%ㆍ!』\\\\‘|\\(\\)\\[\\]\\<\\>`\\'…》]', '', text)\n",
    "    return clean\n",
    "\n",
    "def remove_punctuation(text):\n",
    "    table = str.maketrans('', '', string.punctuation)\n",
    "    return text.translate(table)"
   ]
  },
  {
   "cell_type": "code",
   "execution_count": 10,
   "metadata": {
    "id": "8PDhNWs2gIsj"
   },
   "outputs": [],
   "source": [
    "train['text'] = train['text'].apply(lambda x: remove_symbols(x))\n",
    "test['text'] = test['text'].apply(lambda x: remove_symbols(x))\n",
    "\n",
    "train['text'] = train['text'].apply(lambda x: remove_punctuation(x))\n",
    "test['text'] = test['text'].apply(lambda x: remove_punctuation(x))\n",
    "\n",
    "train['tokenized_text'] = train['text'].apply(word_tokenize)\n",
    "test['tokenized_text'] = test['text'].apply(word_tokenize)"
   ]
  },
  {
   "cell_type": "code",
   "execution_count": 11,
   "metadata": {
    "colab": {
     "base_uri": "https://localhost:8080/",
     "height": 287
    },
    "id": "IIiEJBpZgKYu",
    "outputId": "8791e88b-51b3-4679-c607-874a8f1deca1"
   },
   "outputs": [
    {
     "data": {
      "text/html": [
       "<div>\n",
       "<style scoped>\n",
       "    .dataframe tbody tr th:only-of-type {\n",
       "        vertical-align: middle;\n",
       "    }\n",
       "\n",
       "    .dataframe tbody tr th {\n",
       "        vertical-align: top;\n",
       "    }\n",
       "\n",
       "    .dataframe thead th {\n",
       "        text-align: right;\n",
       "    }\n",
       "</style>\n",
       "<table border=\"1\" class=\"dataframe\">\n",
       "  <thead>\n",
       "    <tr style=\"text-align: right;\">\n",
       "      <th></th>\n",
       "      <th>text</th>\n",
       "      <th>label</th>\n",
       "      <th>text_length</th>\n",
       "      <th>num_sentences</th>\n",
       "      <th>num_exclamation</th>\n",
       "      <th>num_question</th>\n",
       "      <th>tokenized_text</th>\n",
       "    </tr>\n",
       "  </thead>\n",
       "  <tbody>\n",
       "    <tr>\n",
       "      <th>0</th>\n",
       "      <td>Report War Looms  Hundreds of American Troops ...</td>\n",
       "      <td>0</td>\n",
       "      <td>3940</td>\n",
       "      <td>26</td>\n",
       "      <td>0</td>\n",
       "      <td>2</td>\n",
       "      <td>[Report, War, Looms, Hundreds, of, American, T...</td>\n",
       "    </tr>\n",
       "    <tr>\n",
       "      <th>1</th>\n",
       "      <td>I walked through a preview of the artist Pedro...</td>\n",
       "      <td>1</td>\n",
       "      <td>6707</td>\n",
       "      <td>52</td>\n",
       "      <td>1</td>\n",
       "      <td>0</td>\n",
       "      <td>[I, walked, through, a, preview, of, the, arti...</td>\n",
       "    </tr>\n",
       "    <tr>\n",
       "      <th>2</th>\n",
       "      <td>NeoCon Hypocrites Leverage Human Rights Agains...</td>\n",
       "      <td>0</td>\n",
       "      <td>3443</td>\n",
       "      <td>15</td>\n",
       "      <td>0</td>\n",
       "      <td>0</td>\n",
       "      <td>[NeoCon, Hypocrites, Leverage, Human, Rights, ...</td>\n",
       "    </tr>\n",
       "    <tr>\n",
       "      <th>3</th>\n",
       "      <td>A giant beef roast for the holidays is for man...</td>\n",
       "      <td>1</td>\n",
       "      <td>3365</td>\n",
       "      <td>32</td>\n",
       "      <td>0</td>\n",
       "      <td>2</td>\n",
       "      <td>[A, giant, beef, roast, for, the, holidays, is...</td>\n",
       "    </tr>\n",
       "    <tr>\n",
       "      <th>4</th>\n",
       "      <td>Seeking to appeal to guests desire for new exp...</td>\n",
       "      <td>1</td>\n",
       "      <td>5574</td>\n",
       "      <td>20</td>\n",
       "      <td>0</td>\n",
       "      <td>0</td>\n",
       "      <td>[Seeking, to, appeal, to, guests, desire, for,...</td>\n",
       "    </tr>\n",
       "  </tbody>\n",
       "</table>\n",
       "</div>"
      ],
      "text/plain": [
       "                                                text label  text_length  \\\n",
       "0  Report War Looms  Hundreds of American Troops ...     0         3940   \n",
       "1  I walked through a preview of the artist Pedro...     1         6707   \n",
       "2  NeoCon Hypocrites Leverage Human Rights Agains...     0         3443   \n",
       "3  A giant beef roast for the holidays is for man...     1         3365   \n",
       "4  Seeking to appeal to guests desire for new exp...     1         5574   \n",
       "\n",
       "   num_sentences  num_exclamation  num_question  \\\n",
       "0             26                0             2   \n",
       "1             52                1             0   \n",
       "2             15                0             0   \n",
       "3             32                0             2   \n",
       "4             20                0             0   \n",
       "\n",
       "                                      tokenized_text  \n",
       "0  [Report, War, Looms, Hundreds, of, American, T...  \n",
       "1  [I, walked, through, a, preview, of, the, arti...  \n",
       "2  [NeoCon, Hypocrites, Leverage, Human, Rights, ...  \n",
       "3  [A, giant, beef, roast, for, the, holidays, is...  \n",
       "4  [Seeking, to, appeal, to, guests, desire, for,...  "
      ]
     },
     "execution_count": 11,
     "metadata": {},
     "output_type": "execute_result"
    }
   ],
   "source": [
    "train.head()"
   ]
  },
  {
   "cell_type": "code",
   "execution_count": 12,
   "metadata": {
    "id": "FuvxyloRqBEI"
   },
   "outputs": [],
   "source": [
    "# Calculate number of words\n",
    "\n",
    "train[\"num_words\"] = train[\"tokenized_text\"].apply(lambda x: len(x))\n",
    "test[\"num_words\"] = test[\"tokenized_text\"].apply(lambda x: len(x))"
   ]
  },
  {
   "cell_type": "code",
   "execution_count": 13,
   "metadata": {
    "id": "ljxGW9LuqxZX"
   },
   "outputs": [],
   "source": [
    "# Calculate average word and sentence length\n",
    "\n",
    "train['avg_word_len'] = train['tokenized_text'].apply(lambda x: sum([len(word) for word in x])/len(x))\n",
    "test['avg_word_len'] = test['tokenized_text'].apply(lambda x: sum([len(word) for word in x])/len(x))\n",
    "\n",
    "train['avg_sent_len'] = train['num_words'] / train['num_sentences']\n",
    "test['avg_sent_len'] = test['num_words'] / test['num_sentences']"
   ]
  },
  {
   "cell_type": "code",
   "execution_count": 14,
   "metadata": {
    "id": "vGRaLhI8gLei"
   },
   "outputs": [],
   "source": [
    "train['tokenized_text'] = train['tokenized_text'].apply(lambda x: [word.lower() for word in x])\n",
    "test['tokenized_text'] = test['tokenized_text'].apply(lambda x: [word.lower() for word in x])\n",
    "\n",
    "stop = set(stopwords.words('english'))\n",
    "\n",
    "train['stopwords_removed_text'] = train['tokenized_text'].apply(lambda x: [word for word in x if word not in stop])\n",
    "test['stopwords_removed_text'] = test['tokenized_text'].apply(lambda x: [word for word in x if word not in stop])"
   ]
  },
  {
   "cell_type": "code",
   "execution_count": 15,
   "metadata": {
    "colab": {
     "base_uri": "https://localhost:8080/",
     "height": 610
    },
    "id": "4r3hqQj8Q8eY",
    "outputId": "3c4edcde-862f-43e7-eb35-d638952e53db"
   },
   "outputs": [
    {
     "data": {
      "text/html": [
       "<div>\n",
       "<style scoped>\n",
       "    .dataframe tbody tr th:only-of-type {\n",
       "        vertical-align: middle;\n",
       "    }\n",
       "\n",
       "    .dataframe tbody tr th {\n",
       "        vertical-align: top;\n",
       "    }\n",
       "\n",
       "    .dataframe thead th {\n",
       "        text-align: right;\n",
       "    }\n",
       "</style>\n",
       "<table border=\"1\" class=\"dataframe\">\n",
       "  <thead>\n",
       "    <tr style=\"text-align: right;\">\n",
       "      <th></th>\n",
       "      <th>text</th>\n",
       "      <th>label</th>\n",
       "      <th>text_length</th>\n",
       "      <th>num_sentences</th>\n",
       "      <th>num_exclamation</th>\n",
       "      <th>num_question</th>\n",
       "      <th>tokenized_text</th>\n",
       "      <th>num_words</th>\n",
       "      <th>avg_word_len</th>\n",
       "      <th>avg_sent_len</th>\n",
       "      <th>stopwords_removed_text</th>\n",
       "    </tr>\n",
       "  </thead>\n",
       "  <tbody>\n",
       "    <tr>\n",
       "      <th>0</th>\n",
       "      <td>Report War Looms  Hundreds of American Troops ...</td>\n",
       "      <td>0</td>\n",
       "      <td>3940</td>\n",
       "      <td>26</td>\n",
       "      <td>0</td>\n",
       "      <td>2</td>\n",
       "      <td>[report, war, looms, hundreds, of, american, t...</td>\n",
       "      <td>637</td>\n",
       "      <td>5.062794</td>\n",
       "      <td>24.500000</td>\n",
       "      <td>[report, war, looms, hundreds, american, troop...</td>\n",
       "    </tr>\n",
       "    <tr>\n",
       "      <th>1</th>\n",
       "      <td>I walked through a preview of the artist Pedro...</td>\n",
       "      <td>1</td>\n",
       "      <td>6707</td>\n",
       "      <td>52</td>\n",
       "      <td>1</td>\n",
       "      <td>0</td>\n",
       "      <td>[i, walked, through, a, preview, of, the, arti...</td>\n",
       "      <td>1150</td>\n",
       "      <td>4.643478</td>\n",
       "      <td>22.115385</td>\n",
       "      <td>[walked, preview, artist, pedro, reyess, creat...</td>\n",
       "    </tr>\n",
       "    <tr>\n",
       "      <th>2</th>\n",
       "      <td>NeoCon Hypocrites Leverage Human Rights Agains...</td>\n",
       "      <td>0</td>\n",
       "      <td>3443</td>\n",
       "      <td>15</td>\n",
       "      <td>0</td>\n",
       "      <td>0</td>\n",
       "      <td>[neocon, hypocrites, leverage, human, rights, ...</td>\n",
       "      <td>529</td>\n",
       "      <td>5.398866</td>\n",
       "      <td>35.266667</td>\n",
       "      <td>[neocon, hypocrites, leverage, human, rights, ...</td>\n",
       "    </tr>\n",
       "    <tr>\n",
       "      <th>3</th>\n",
       "      <td>A giant beef roast for the holidays is for man...</td>\n",
       "      <td>1</td>\n",
       "      <td>3365</td>\n",
       "      <td>32</td>\n",
       "      <td>0</td>\n",
       "      <td>2</td>\n",
       "      <td>[a, giant, beef, roast, for, the, holidays, is...</td>\n",
       "      <td>576</td>\n",
       "      <td>4.631944</td>\n",
       "      <td>18.000000</td>\n",
       "      <td>[giant, beef, roast, holidays, many, de, rigue...</td>\n",
       "    </tr>\n",
       "    <tr>\n",
       "      <th>4</th>\n",
       "      <td>Seeking to appeal to guests desire for new exp...</td>\n",
       "      <td>1</td>\n",
       "      <td>5574</td>\n",
       "      <td>20</td>\n",
       "      <td>0</td>\n",
       "      <td>0</td>\n",
       "      <td>[seeking, to, appeal, to, guests, desire, for,...</td>\n",
       "      <td>919</td>\n",
       "      <td>4.937976</td>\n",
       "      <td>45.950000</td>\n",
       "      <td>[seeking, appeal, guests, desire, new, experie...</td>\n",
       "    </tr>\n",
       "  </tbody>\n",
       "</table>\n",
       "</div>"
      ],
      "text/plain": [
       "                                                text label  text_length  \\\n",
       "0  Report War Looms  Hundreds of American Troops ...     0         3940   \n",
       "1  I walked through a preview of the artist Pedro...     1         6707   \n",
       "2  NeoCon Hypocrites Leverage Human Rights Agains...     0         3443   \n",
       "3  A giant beef roast for the holidays is for man...     1         3365   \n",
       "4  Seeking to appeal to guests desire for new exp...     1         5574   \n",
       "\n",
       "   num_sentences  num_exclamation  num_question  \\\n",
       "0             26                0             2   \n",
       "1             52                1             0   \n",
       "2             15                0             0   \n",
       "3             32                0             2   \n",
       "4             20                0             0   \n",
       "\n",
       "                                      tokenized_text  num_words  avg_word_len  \\\n",
       "0  [report, war, looms, hundreds, of, american, t...        637      5.062794   \n",
       "1  [i, walked, through, a, preview, of, the, arti...       1150      4.643478   \n",
       "2  [neocon, hypocrites, leverage, human, rights, ...        529      5.398866   \n",
       "3  [a, giant, beef, roast, for, the, holidays, is...        576      4.631944   \n",
       "4  [seeking, to, appeal, to, guests, desire, for,...        919      4.937976   \n",
       "\n",
       "   avg_sent_len                             stopwords_removed_text  \n",
       "0     24.500000  [report, war, looms, hundreds, american, troop...  \n",
       "1     22.115385  [walked, preview, artist, pedro, reyess, creat...  \n",
       "2     35.266667  [neocon, hypocrites, leverage, human, rights, ...  \n",
       "3     18.000000  [giant, beef, roast, holidays, many, de, rigue...  \n",
       "4     45.950000  [seeking, appeal, guests, desire, new, experie...  "
      ]
     },
     "execution_count": 15,
     "metadata": {},
     "output_type": "execute_result"
    }
   ],
   "source": [
    "train.head()"
   ]
  },
  {
   "cell_type": "code",
   "execution_count": 16,
   "metadata": {
    "id": "mUAoVowmAMuN"
   },
   "outputs": [],
   "source": [
    "train['pos_tags'] = train['stopwords_removed_text'].apply(nltk.tag.pos_tag)\n",
    "test['pos_tags'] = test['stopwords_removed_text'].apply(nltk.tag.pos_tag)"
   ]
  },
  {
   "cell_type": "code",
   "execution_count": 17,
   "metadata": {
    "id": "l9gRYkJJA4UT"
   },
   "outputs": [],
   "source": [
    "# Determine parts of speech\n",
    "\n",
    "def part_of_speech(tag):\n",
    "    if tag.startswith('J'):\n",
    "        return \"adj\"\n",
    "    elif tag.startswith('V'):\n",
    "        return \"verb\"\n",
    "    elif tag.startswith('N'):\n",
    "        return \"noun\"\n",
    "    elif tag.startswith('R'):\n",
    "        return \"adv\"\n",
    "    else:\n",
    "        return \"noun\"\n",
    "\n",
    "train['pos'] = train['pos_tags'].apply(lambda x: [part_of_speech(pos_tag) for (word, pos_tag) in x])\n",
    "test['pos'] = test['pos_tags'].apply(lambda x: [part_of_speech(pos_tag) for (word, pos_tag) in x])"
   ]
  },
  {
   "cell_type": "code",
   "execution_count": 18,
   "metadata": {
    "colab": {
     "base_uri": "https://localhost:8080/",
     "height": 811
    },
    "id": "4iQFTixIbjpv",
    "outputId": "aba2dcde-f7a8-4f28-abe9-ff580e43beb7"
   },
   "outputs": [
    {
     "data": {
      "text/html": [
       "<div>\n",
       "<style scoped>\n",
       "    .dataframe tbody tr th:only-of-type {\n",
       "        vertical-align: middle;\n",
       "    }\n",
       "\n",
       "    .dataframe tbody tr th {\n",
       "        vertical-align: top;\n",
       "    }\n",
       "\n",
       "    .dataframe thead th {\n",
       "        text-align: right;\n",
       "    }\n",
       "</style>\n",
       "<table border=\"1\" class=\"dataframe\">\n",
       "  <thead>\n",
       "    <tr style=\"text-align: right;\">\n",
       "      <th></th>\n",
       "      <th>text</th>\n",
       "      <th>label</th>\n",
       "      <th>text_length</th>\n",
       "      <th>num_sentences</th>\n",
       "      <th>num_exclamation</th>\n",
       "      <th>num_question</th>\n",
       "      <th>tokenized_text</th>\n",
       "      <th>num_words</th>\n",
       "      <th>avg_word_len</th>\n",
       "      <th>avg_sent_len</th>\n",
       "      <th>stopwords_removed_text</th>\n",
       "      <th>pos_tags</th>\n",
       "      <th>pos</th>\n",
       "      <th>pct_noun</th>\n",
       "      <th>pct_verb</th>\n",
       "      <th>pct_adj</th>\n",
       "    </tr>\n",
       "  </thead>\n",
       "  <tbody>\n",
       "    <tr>\n",
       "      <th>0</th>\n",
       "      <td>Report War Looms  Hundreds of American Troops ...</td>\n",
       "      <td>0</td>\n",
       "      <td>3940</td>\n",
       "      <td>26</td>\n",
       "      <td>0</td>\n",
       "      <td>2</td>\n",
       "      <td>[report, war, looms, hundreds, of, american, t...</td>\n",
       "      <td>637</td>\n",
       "      <td>5.062794</td>\n",
       "      <td>24.500000</td>\n",
       "      <td>[report, war, looms, hundreds, american, troop...</td>\n",
       "      <td>[(report, NN), (war, NN), (looms, VBZ), (hundr...</td>\n",
       "      <td>[noun, noun, verb, noun, adj, noun, verb, noun...</td>\n",
       "      <td>0.489247</td>\n",
       "      <td>0.223118</td>\n",
       "      <td>0.212366</td>\n",
       "    </tr>\n",
       "    <tr>\n",
       "      <th>1</th>\n",
       "      <td>I walked through a preview of the artist Pedro...</td>\n",
       "      <td>1</td>\n",
       "      <td>6707</td>\n",
       "      <td>52</td>\n",
       "      <td>1</td>\n",
       "      <td>0</td>\n",
       "      <td>[i, walked, through, a, preview, of, the, arti...</td>\n",
       "      <td>1150</td>\n",
       "      <td>4.643478</td>\n",
       "      <td>22.115385</td>\n",
       "      <td>[walked, preview, artist, pedro, reyess, creat...</td>\n",
       "      <td>[(walked, VBN), (preview, JJ), (artist, NN), (...</td>\n",
       "      <td>[verb, adj, noun, noun, verb, adj, noun, noun,...</td>\n",
       "      <td>0.521545</td>\n",
       "      <td>0.200594</td>\n",
       "      <td>0.199108</td>\n",
       "    </tr>\n",
       "    <tr>\n",
       "      <th>2</th>\n",
       "      <td>NeoCon Hypocrites Leverage Human Rights Agains...</td>\n",
       "      <td>0</td>\n",
       "      <td>3443</td>\n",
       "      <td>15</td>\n",
       "      <td>0</td>\n",
       "      <td>0</td>\n",
       "      <td>[neocon, hypocrites, leverage, human, rights, ...</td>\n",
       "      <td>529</td>\n",
       "      <td>5.398866</td>\n",
       "      <td>35.266667</td>\n",
       "      <td>[neocon, hypocrites, leverage, human, rights, ...</td>\n",
       "      <td>[(neocon, NN), (hypocrites, VBZ), (leverage, J...</td>\n",
       "      <td>[noun, verb, adj, adj, noun, noun, noun, noun,...</td>\n",
       "      <td>0.478261</td>\n",
       "      <td>0.257764</td>\n",
       "      <td>0.164596</td>\n",
       "    </tr>\n",
       "    <tr>\n",
       "      <th>3</th>\n",
       "      <td>A giant beef roast for the holidays is for man...</td>\n",
       "      <td>1</td>\n",
       "      <td>3365</td>\n",
       "      <td>32</td>\n",
       "      <td>0</td>\n",
       "      <td>2</td>\n",
       "      <td>[a, giant, beef, roast, for, the, holidays, is...</td>\n",
       "      <td>576</td>\n",
       "      <td>4.631944</td>\n",
       "      <td>18.000000</td>\n",
       "      <td>[giant, beef, roast, holidays, many, de, rigue...</td>\n",
       "      <td>[(giant, JJ), (beef, NN), (roast, NN), (holida...</td>\n",
       "      <td>[adj, noun, noun, verb, adj, noun, noun, verb,...</td>\n",
       "      <td>0.517751</td>\n",
       "      <td>0.162722</td>\n",
       "      <td>0.254438</td>\n",
       "    </tr>\n",
       "    <tr>\n",
       "      <th>4</th>\n",
       "      <td>Seeking to appeal to guests desire for new exp...</td>\n",
       "      <td>1</td>\n",
       "      <td>5574</td>\n",
       "      <td>20</td>\n",
       "      <td>0</td>\n",
       "      <td>0</td>\n",
       "      <td>[seeking, to, appeal, to, guests, desire, for,...</td>\n",
       "      <td>919</td>\n",
       "      <td>4.937976</td>\n",
       "      <td>45.950000</td>\n",
       "      <td>[seeking, appeal, guests, desire, new, experie...</td>\n",
       "      <td>[(seeking, VBG), (appeal, NN), (guests, NNS), ...</td>\n",
       "      <td>[verb, noun, noun, verb, adj, noun, verb, adj,...</td>\n",
       "      <td>0.544803</td>\n",
       "      <td>0.224014</td>\n",
       "      <td>0.195341</td>\n",
       "    </tr>\n",
       "  </tbody>\n",
       "</table>\n",
       "</div>"
      ],
      "text/plain": [
       "                                                text label  text_length  \\\n",
       "0  Report War Looms  Hundreds of American Troops ...     0         3940   \n",
       "1  I walked through a preview of the artist Pedro...     1         6707   \n",
       "2  NeoCon Hypocrites Leverage Human Rights Agains...     0         3443   \n",
       "3  A giant beef roast for the holidays is for man...     1         3365   \n",
       "4  Seeking to appeal to guests desire for new exp...     1         5574   \n",
       "\n",
       "   num_sentences  num_exclamation  num_question  \\\n",
       "0             26                0             2   \n",
       "1             52                1             0   \n",
       "2             15                0             0   \n",
       "3             32                0             2   \n",
       "4             20                0             0   \n",
       "\n",
       "                                      tokenized_text  num_words  avg_word_len  \\\n",
       "0  [report, war, looms, hundreds, of, american, t...        637      5.062794   \n",
       "1  [i, walked, through, a, preview, of, the, arti...       1150      4.643478   \n",
       "2  [neocon, hypocrites, leverage, human, rights, ...        529      5.398866   \n",
       "3  [a, giant, beef, roast, for, the, holidays, is...        576      4.631944   \n",
       "4  [seeking, to, appeal, to, guests, desire, for,...        919      4.937976   \n",
       "\n",
       "   avg_sent_len                             stopwords_removed_text  \\\n",
       "0     24.500000  [report, war, looms, hundreds, american, troop...   \n",
       "1     22.115385  [walked, preview, artist, pedro, reyess, creat...   \n",
       "2     35.266667  [neocon, hypocrites, leverage, human, rights, ...   \n",
       "3     18.000000  [giant, beef, roast, holidays, many, de, rigue...   \n",
       "4     45.950000  [seeking, appeal, guests, desire, new, experie...   \n",
       "\n",
       "                                            pos_tags  \\\n",
       "0  [(report, NN), (war, NN), (looms, VBZ), (hundr...   \n",
       "1  [(walked, VBN), (preview, JJ), (artist, NN), (...   \n",
       "2  [(neocon, NN), (hypocrites, VBZ), (leverage, J...   \n",
       "3  [(giant, JJ), (beef, NN), (roast, NN), (holida...   \n",
       "4  [(seeking, VBG), (appeal, NN), (guests, NNS), ...   \n",
       "\n",
       "                                                 pos  pct_noun  pct_verb  \\\n",
       "0  [noun, noun, verb, noun, adj, noun, verb, noun...  0.489247  0.223118   \n",
       "1  [verb, adj, noun, noun, verb, adj, noun, noun,...  0.521545  0.200594   \n",
       "2  [noun, verb, adj, adj, noun, noun, noun, noun,...  0.478261  0.257764   \n",
       "3  [adj, noun, noun, verb, adj, noun, noun, verb,...  0.517751  0.162722   \n",
       "4  [verb, noun, noun, verb, adj, noun, verb, adj,...  0.544803  0.224014   \n",
       "\n",
       "    pct_adj  \n",
       "0  0.212366  \n",
       "1  0.199108  \n",
       "2  0.164596  \n",
       "3  0.254438  \n",
       "4  0.195341  "
      ]
     },
     "execution_count": 18,
     "metadata": {},
     "output_type": "execute_result"
    }
   ],
   "source": [
    "# Calculate proportion of nouns, verbs and adjectives\n",
    "\n",
    "train[\"pct_noun\"] = train[\"pos\"].apply(lambda x: x.count(\"noun\") / len(x) if len(x) != 0 else 0)\n",
    "test[\"pct_noun\"] = test[\"pos\"].apply(lambda x: x.count(\"noun\") / len(x) if len(x) != 0 else 0)\n",
    "\n",
    "train[\"pct_verb\"] = train[\"pos\"].apply(lambda x: x.count(\"verb\") / len(x) if len(x) != 0 else 0)\n",
    "test[\"pct_verb\"] = test[\"pos\"].apply(lambda x: x.count(\"verb\") / len(x) if len(x) != 0 else 0)\n",
    "\n",
    "train[\"pct_adj\"] = train[\"pos\"].apply(lambda x: x.count(\"adj\") / len(x) if len(x) != 0 else 0)\n",
    "test[\"pct_adj\"] = test[\"pos\"].apply(lambda x: x.count(\"adj\") / len(x) if len(x) != 0 else 0)\n",
    "\n",
    "train.head()"
   ]
  },
  {
   "cell_type": "code",
   "execution_count": 19,
   "metadata": {
    "id": "_Q_m-nVLcimV"
   },
   "outputs": [],
   "source": [
    "train[\"pct_exclamation\"] = train[\"num_exclamation\"] / train[\"text_length\"]\n",
    "test[\"pct_exclamation\"] = test[\"num_exclamation\"] / test[\"text_length\"]\n",
    "\n",
    "train[\"pct_question\"] = train[\"num_question\"] / train[\"text_length\"]\n",
    "test[\"pct_question\"] = test[\"num_question\"] / test[\"text_length\"]\n",
    "\n",
    "train[\"adj\"] = train[\"pos\"].apply(lambda x: x.count(\"adj\"))\n",
    "test[\"adj\"] = test[\"pos\"].apply(lambda x: x.count(\"adj\"))\n",
    "\n",
    "train[\"verb\"] = train[\"pos\"].apply(lambda x: x.count(\"verb\"))\n",
    "test[\"verb\"] = test[\"pos\"].apply(lambda x: x.count(\"verb\"))\n",
    "\n",
    "train[\"noun\"] = train[\"pos\"].apply(lambda x: x.count(\"noun\"))\n",
    "test[\"noun\"] = test[\"pos\"].apply(lambda x: x.count(\"noun\"))"
   ]
  },
  {
   "cell_type": "code",
   "execution_count": 20,
   "metadata": {
    "id": "H1g9NMPTBlmk"
   },
   "outputs": [],
   "source": [
    "# Save preprocessed text\n",
    "\n",
    "train.to_csv(\"data/train_preprocessed.csv\")\n",
    "test.to_csv(\"data/test_preprocessed.csv\")"
   ]
  },
  {
   "cell_type": "markdown",
   "metadata": {
    "id": "b3jmxoB07GMi"
   },
   "source": [
    "### Visualisations"
   ]
  },
  {
   "cell_type": "code",
   "execution_count": 21,
   "metadata": {
    "colab": {
     "base_uri": "https://localhost:8080/",
     "height": 677
    },
    "id": "x8CSikANb4ds",
    "outputId": "d181ac33-0fb8-408b-a2ed-64619083117a"
   },
   "outputs": [
    {
     "data": {
      "text/html": [
       "<div>\n",
       "<style scoped>\n",
       "    .dataframe tbody tr th:only-of-type {\n",
       "        vertical-align: middle;\n",
       "    }\n",
       "\n",
       "    .dataframe tbody tr th {\n",
       "        vertical-align: top;\n",
       "    }\n",
       "\n",
       "    .dataframe thead th {\n",
       "        text-align: right;\n",
       "    }\n",
       "</style>\n",
       "<table border=\"1\" class=\"dataframe\">\n",
       "  <thead>\n",
       "    <tr style=\"text-align: right;\">\n",
       "      <th></th>\n",
       "      <th>Unnamed: 0</th>\n",
       "      <th>text</th>\n",
       "      <th>label</th>\n",
       "      <th>text_length</th>\n",
       "      <th>num_sentences</th>\n",
       "      <th>num_exclamation</th>\n",
       "      <th>num_question</th>\n",
       "      <th>tokenized_text</th>\n",
       "      <th>num_words</th>\n",
       "      <th>avg_word_len</th>\n",
       "      <th>...</th>\n",
       "      <th>pos_tags</th>\n",
       "      <th>pos</th>\n",
       "      <th>pct_noun</th>\n",
       "      <th>pct_verb</th>\n",
       "      <th>pct_adj</th>\n",
       "      <th>pct_exclamation</th>\n",
       "      <th>pct_question</th>\n",
       "      <th>adj</th>\n",
       "      <th>verb</th>\n",
       "      <th>noun</th>\n",
       "    </tr>\n",
       "  </thead>\n",
       "  <tbody>\n",
       "    <tr>\n",
       "      <th>0</th>\n",
       "      <td>0</td>\n",
       "      <td>Report War Looms  Hundreds of American Troops ...</td>\n",
       "      <td>0</td>\n",
       "      <td>3940</td>\n",
       "      <td>26</td>\n",
       "      <td>0</td>\n",
       "      <td>2</td>\n",
       "      <td>['report', 'war', 'looms', 'hundreds', 'of', '...</td>\n",
       "      <td>637</td>\n",
       "      <td>5.062794</td>\n",
       "      <td>...</td>\n",
       "      <td>[('report', 'NN'), ('war', 'NN'), ('looms', 'V...</td>\n",
       "      <td>['noun', 'noun', 'verb', 'noun', 'adj', 'noun'...</td>\n",
       "      <td>0.489247</td>\n",
       "      <td>0.223118</td>\n",
       "      <td>0.212366</td>\n",
       "      <td>0.000000</td>\n",
       "      <td>0.000508</td>\n",
       "      <td>79</td>\n",
       "      <td>83</td>\n",
       "      <td>182</td>\n",
       "    </tr>\n",
       "    <tr>\n",
       "      <th>1</th>\n",
       "      <td>1</td>\n",
       "      <td>I walked through a preview of the artist Pedro...</td>\n",
       "      <td>1</td>\n",
       "      <td>6707</td>\n",
       "      <td>52</td>\n",
       "      <td>1</td>\n",
       "      <td>0</td>\n",
       "      <td>['i', 'walked', 'through', 'a', 'preview', 'of...</td>\n",
       "      <td>1150</td>\n",
       "      <td>4.643478</td>\n",
       "      <td>...</td>\n",
       "      <td>[('walked', 'VBN'), ('preview', 'JJ'), ('artis...</td>\n",
       "      <td>['verb', 'adj', 'noun', 'noun', 'verb', 'adj',...</td>\n",
       "      <td>0.521545</td>\n",
       "      <td>0.200594</td>\n",
       "      <td>0.199108</td>\n",
       "      <td>0.000149</td>\n",
       "      <td>0.000000</td>\n",
       "      <td>134</td>\n",
       "      <td>135</td>\n",
       "      <td>351</td>\n",
       "    </tr>\n",
       "    <tr>\n",
       "      <th>2</th>\n",
       "      <td>2</td>\n",
       "      <td>NeoCon Hypocrites Leverage Human Rights Agains...</td>\n",
       "      <td>0</td>\n",
       "      <td>3443</td>\n",
       "      <td>15</td>\n",
       "      <td>0</td>\n",
       "      <td>0</td>\n",
       "      <td>['neocon', 'hypocrites', 'leverage', 'human', ...</td>\n",
       "      <td>529</td>\n",
       "      <td>5.398866</td>\n",
       "      <td>...</td>\n",
       "      <td>[('neocon', 'NN'), ('hypocrites', 'VBZ'), ('le...</td>\n",
       "      <td>['noun', 'verb', 'adj', 'adj', 'noun', 'noun',...</td>\n",
       "      <td>0.478261</td>\n",
       "      <td>0.257764</td>\n",
       "      <td>0.164596</td>\n",
       "      <td>0.000000</td>\n",
       "      <td>0.000000</td>\n",
       "      <td>53</td>\n",
       "      <td>83</td>\n",
       "      <td>154</td>\n",
       "    </tr>\n",
       "    <tr>\n",
       "      <th>3</th>\n",
       "      <td>3</td>\n",
       "      <td>A giant beef roast for the holidays is for man...</td>\n",
       "      <td>1</td>\n",
       "      <td>3365</td>\n",
       "      <td>32</td>\n",
       "      <td>0</td>\n",
       "      <td>2</td>\n",
       "      <td>['a', 'giant', 'beef', 'roast', 'for', 'the', ...</td>\n",
       "      <td>576</td>\n",
       "      <td>4.631944</td>\n",
       "      <td>...</td>\n",
       "      <td>[('giant', 'JJ'), ('beef', 'NN'), ('roast', 'N...</td>\n",
       "      <td>['adj', 'noun', 'noun', 'verb', 'adj', 'noun',...</td>\n",
       "      <td>0.517751</td>\n",
       "      <td>0.162722</td>\n",
       "      <td>0.254438</td>\n",
       "      <td>0.000000</td>\n",
       "      <td>0.000594</td>\n",
       "      <td>86</td>\n",
       "      <td>55</td>\n",
       "      <td>175</td>\n",
       "    </tr>\n",
       "    <tr>\n",
       "      <th>4</th>\n",
       "      <td>4</td>\n",
       "      <td>Seeking to appeal to guests desire for new exp...</td>\n",
       "      <td>1</td>\n",
       "      <td>5574</td>\n",
       "      <td>20</td>\n",
       "      <td>0</td>\n",
       "      <td>0</td>\n",
       "      <td>['seeking', 'to', 'appeal', 'to', 'guests', 'd...</td>\n",
       "      <td>919</td>\n",
       "      <td>4.937976</td>\n",
       "      <td>...</td>\n",
       "      <td>[('seeking', 'VBG'), ('appeal', 'NN'), ('guest...</td>\n",
       "      <td>['verb', 'noun', 'noun', 'verb', 'adj', 'noun'...</td>\n",
       "      <td>0.544803</td>\n",
       "      <td>0.224014</td>\n",
       "      <td>0.195341</td>\n",
       "      <td>0.000000</td>\n",
       "      <td>0.000000</td>\n",
       "      <td>109</td>\n",
       "      <td>125</td>\n",
       "      <td>304</td>\n",
       "    </tr>\n",
       "  </tbody>\n",
       "</table>\n",
       "<p>5 rows × 22 columns</p>\n",
       "</div>"
      ],
      "text/plain": [
       "   Unnamed: 0                                               text  label  \\\n",
       "0           0  Report War Looms  Hundreds of American Troops ...      0   \n",
       "1           1  I walked through a preview of the artist Pedro...      1   \n",
       "2           2  NeoCon Hypocrites Leverage Human Rights Agains...      0   \n",
       "3           3  A giant beef roast for the holidays is for man...      1   \n",
       "4           4  Seeking to appeal to guests desire for new exp...      1   \n",
       "\n",
       "   text_length  num_sentences  num_exclamation  num_question  \\\n",
       "0         3940             26                0             2   \n",
       "1         6707             52                1             0   \n",
       "2         3443             15                0             0   \n",
       "3         3365             32                0             2   \n",
       "4         5574             20                0             0   \n",
       "\n",
       "                                      tokenized_text  num_words  avg_word_len  \\\n",
       "0  ['report', 'war', 'looms', 'hundreds', 'of', '...        637      5.062794   \n",
       "1  ['i', 'walked', 'through', 'a', 'preview', 'of...       1150      4.643478   \n",
       "2  ['neocon', 'hypocrites', 'leverage', 'human', ...        529      5.398866   \n",
       "3  ['a', 'giant', 'beef', 'roast', 'for', 'the', ...        576      4.631944   \n",
       "4  ['seeking', 'to', 'appeal', 'to', 'guests', 'd...        919      4.937976   \n",
       "\n",
       "   ...                                           pos_tags  \\\n",
       "0  ...  [('report', 'NN'), ('war', 'NN'), ('looms', 'V...   \n",
       "1  ...  [('walked', 'VBN'), ('preview', 'JJ'), ('artis...   \n",
       "2  ...  [('neocon', 'NN'), ('hypocrites', 'VBZ'), ('le...   \n",
       "3  ...  [('giant', 'JJ'), ('beef', 'NN'), ('roast', 'N...   \n",
       "4  ...  [('seeking', 'VBG'), ('appeal', 'NN'), ('guest...   \n",
       "\n",
       "                                                 pos  pct_noun  pct_verb  \\\n",
       "0  ['noun', 'noun', 'verb', 'noun', 'adj', 'noun'...  0.489247  0.223118   \n",
       "1  ['verb', 'adj', 'noun', 'noun', 'verb', 'adj',...  0.521545  0.200594   \n",
       "2  ['noun', 'verb', 'adj', 'adj', 'noun', 'noun',...  0.478261  0.257764   \n",
       "3  ['adj', 'noun', 'noun', 'verb', 'adj', 'noun',...  0.517751  0.162722   \n",
       "4  ['verb', 'noun', 'noun', 'verb', 'adj', 'noun'...  0.544803  0.224014   \n",
       "\n",
       "    pct_adj  pct_exclamation  pct_question  adj  verb  noun  \n",
       "0  0.212366         0.000000      0.000508   79    83   182  \n",
       "1  0.199108         0.000149      0.000000  134   135   351  \n",
       "2  0.164596         0.000000      0.000000   53    83   154  \n",
       "3  0.254438         0.000000      0.000594   86    55   175  \n",
       "4  0.195341         0.000000      0.000000  109   125   304  \n",
       "\n",
       "[5 rows x 22 columns]"
      ]
     },
     "execution_count": 21,
     "metadata": {},
     "output_type": "execute_result"
    }
   ],
   "source": [
    "train = pd.read_csv(\"data/train_preprocessed.csv\")\n",
    "test = pd.read_csv(\"data/test_preprocessed.csv\")\n",
    "\n",
    "train.head()"
   ]
  },
  {
   "cell_type": "code",
   "execution_count": 22,
   "metadata": {
    "id": "O56eAS_V7P27"
   },
   "outputs": [],
   "source": [
    "import matplotlib.pyplot as plt\n",
    "import seaborn as sns\n",
    "\n",
    "import matplotlib.gridspec as gridspec\n",
    "import matplotlib.patches as mpatches\n",
    "from matplotlib.ticker import MaxNLocator"
   ]
  },
  {
   "cell_type": "code",
   "execution_count": 23,
   "metadata": {
    "id": "cRRnaKV07aT7"
   },
   "outputs": [],
   "source": [
    "def plot_dist(df, feature, title, bins):\n",
    "    fig = plt.figure(constrained_layout=True, figsize=(18, 10))\n",
    "    grid = gridspec.GridSpec(ncols= 2,nrows=2, figure=fig)\n",
    "\n",
    "    ax1 = fig.add_subplot(grid[0, 0])\n",
    "\n",
    "    ax1.set_title('Histogram')\n",
    "    sns.distplot(df[df['label'] == 0].loc[:, feature],\n",
    "                 hist=True,\n",
    "                 kde=True,\n",
    "                 ax=ax1,)\n",
    "    sns.distplot(df[df['label'] == 1].loc[:, feature],\n",
    "                 hist=True,\n",
    "                 kde=True,\n",
    "                 ax=ax1,)\n",
    "    ax1.set(ylabel='Frequency')\n",
    "    ax1.xaxis.set_major_locator(MaxNLocator(nbins=bins))\n",
    "\n",
    "    ax3 = fig.add_subplot(grid[0, 1])\n",
    "    ax3.set_title('Box Plot')\n",
    "    sns.boxplot(x= 'label', y=feature, data=df, ax=ax3)\n",
    "    ax3.yaxis.set_major_locator(MaxNLocator(nbins=bins))\n",
    "\n",
    "    plt.suptitle(f'{title}', fontsize=24)"
   ]
  },
  {
   "cell_type": "code",
   "execution_count": 24,
   "metadata": {
    "colab": {
     "base_uri": "https://localhost:8080/",
     "height": 454
    },
    "id": "SO7XhcuId20a",
    "outputId": "7733df76-1138-4df2-cd3b-20c1019a18bc"
   },
   "outputs": [
    {
     "name": "stderr",
     "output_type": "stream",
     "text": [
      "C:\\Users\\User\\anaconda3\\lib\\site-packages\\seaborn\\distributions.py:2551: FutureWarning: `distplot` is a deprecated function and will be removed in a future version. Please adapt your code to use either `displot` (a figure-level function with similar flexibility) or `histplot` (an axes-level function for histograms).\n",
      "  warnings.warn(msg, FutureWarning)\n",
      "C:\\Users\\User\\anaconda3\\lib\\site-packages\\seaborn\\distributions.py:2551: FutureWarning: `distplot` is a deprecated function and will be removed in a future version. Please adapt your code to use either `displot` (a figure-level function with similar flexibility) or `histplot` (an axes-level function for histograms).\n",
      "  warnings.warn(msg, FutureWarning)\n"
     ]
    },
    {
     "data": {
      "image/png": "[encoded data removed]",
      "text/plain": [
       "<Figure size 1296x720 with 2 Axes>"
      ]
     },
     "metadata": {
      "needs_background": "light"
     },
     "output_type": "display_data"
    }
   ],
   "source": [
    "# Text length\n",
    "\n",
    "plot_dist(train, 'text_length', 'Text length', 5)"
   ]
  },
  {
   "cell_type": "code",
   "execution_count": 25,
   "metadata": {
    "colab": {
     "base_uri": "https://localhost:8080/",
     "height": 454
    },
    "id": "Bf6oi_ez7IOn",
    "outputId": "99869d63-98c9-4799-9b75-6029707fada7"
   },
   "outputs": [
    {
     "name": "stderr",
     "output_type": "stream",
     "text": [
      "C:\\Users\\User\\anaconda3\\lib\\site-packages\\seaborn\\distributions.py:2551: FutureWarning: `distplot` is a deprecated function and will be removed in a future version. Please adapt your code to use either `displot` (a figure-level function with similar flexibility) or `histplot` (an axes-level function for histograms).\n",
      "  warnings.warn(msg, FutureWarning)\n",
      "C:\\Users\\User\\anaconda3\\lib\\site-packages\\seaborn\\distributions.py:2551: FutureWarning: `distplot` is a deprecated function and will be removed in a future version. Please adapt your code to use either `displot` (a figure-level function with similar flexibility) or `histplot` (an axes-level function for histograms).\n",
      "  warnings.warn(msg, FutureWarning)\n"
     ]
    },
    {
     "data": {
      "image/png": "[encoded data removed]",
      "text/plain": [
       "<Figure size 1296x720 with 2 Axes>"
      ]
     },
     "metadata": {
      "needs_background": "light"
     },
     "output_type": "display_data"
    }
   ],
   "source": [
    "# Number of words\n",
    "\n",
    "plot_dist(train, 'num_words', 'Number of words', 5)"
   ]
  },
  {
   "cell_type": "code",
   "execution_count": 26,
   "metadata": {
    "colab": {
     "base_uri": "https://localhost:8080/",
     "height": 454
    },
    "id": "SjFyYYrN7700",
    "outputId": "d031115d-e2b0-41b6-ad34-198c170f21a5"
   },
   "outputs": [
    {
     "name": "stderr",
     "output_type": "stream",
     "text": [
      "C:\\Users\\User\\anaconda3\\lib\\site-packages\\seaborn\\distributions.py:2551: FutureWarning: `distplot` is a deprecated function and will be removed in a future version. Please adapt your code to use either `displot` (a figure-level function with similar flexibility) or `histplot` (an axes-level function for histograms).\n",
      "  warnings.warn(msg, FutureWarning)\n",
      "C:\\Users\\User\\anaconda3\\lib\\site-packages\\seaborn\\distributions.py:2551: FutureWarning: `distplot` is a deprecated function and will be removed in a future version. Please adapt your code to use either `displot` (a figure-level function with similar flexibility) or `histplot` (an axes-level function for histograms).\n",
      "  warnings.warn(msg, FutureWarning)\n"
     ]
    },
    {
     "data": {
      "image/png": "[encoded data removed]",
      "text/plain": [
       "<Figure size 1296x720 with 2 Axes>"
      ]
     },
     "metadata": {
      "needs_background": "light"
     },
     "output_type": "display_data"
    }
   ],
   "source": [
    "# Average word length\n",
    "\n",
    "plot_dist(train, 'avg_word_len', 'Average word length', 5)"
   ]
  },
  {
   "cell_type": "code",
   "execution_count": 27,
   "metadata": {
    "colab": {
     "base_uri": "https://localhost:8080/",
     "height": 454
    },
    "id": "KG0FG3cp8QOA",
    "outputId": "1d220747-ed8f-4a2b-8a18-fd50ec93e4b0"
   },
   "outputs": [
    {
     "name": "stderr",
     "output_type": "stream",
     "text": [
      "C:\\Users\\User\\anaconda3\\lib\\site-packages\\seaborn\\distributions.py:2551: FutureWarning: `distplot` is a deprecated function and will be removed in a future version. Please adapt your code to use either `displot` (a figure-level function with similar flexibility) or `histplot` (an axes-level function for histograms).\n",
      "  warnings.warn(msg, FutureWarning)\n",
      "C:\\Users\\User\\anaconda3\\lib\\site-packages\\seaborn\\distributions.py:2551: FutureWarning: `distplot` is a deprecated function and will be removed in a future version. Please adapt your code to use either `displot` (a figure-level function with similar flexibility) or `histplot` (an axes-level function for histograms).\n",
      "  warnings.warn(msg, FutureWarning)\n"
     ]
    },
    {
     "data": {
      "image/png": "[encoded data removed]",
      "text/plain": [
       "<Figure size 1296x720 with 2 Axes>"
      ]
     },
     "metadata": {
      "needs_background": "light"
     },
     "output_type": "display_data"
    }
   ],
   "source": [
    "# Average sentence length\n",
    "\n",
    "plot_dist(train, 'avg_sent_len', 'Average sentence length', 5)"
   ]
  },
  {
   "cell_type": "code",
   "execution_count": 28,
   "metadata": {
    "colab": {
     "base_uri": "https://localhost:8080/",
     "height": 454
    },
    "id": "kN3d31Yyeewt",
    "outputId": "4bcaaef1-c0e4-4ff1-e30e-5d8673935c90"
   },
   "outputs": [
    {
     "name": "stderr",
     "output_type": "stream",
     "text": [
      "C:\\Users\\User\\anaconda3\\lib\\site-packages\\seaborn\\distributions.py:2551: FutureWarning: `distplot` is a deprecated function and will be removed in a future version. Please adapt your code to use either `displot` (a figure-level function with similar flexibility) or `histplot` (an axes-level function for histograms).\n",
      "  warnings.warn(msg, FutureWarning)\n",
      "C:\\Users\\User\\anaconda3\\lib\\site-packages\\seaborn\\distributions.py:2551: FutureWarning: `distplot` is a deprecated function and will be removed in a future version. Please adapt your code to use either `displot` (a figure-level function with similar flexibility) or `histplot` (an axes-level function for histograms).\n",
      "  warnings.warn(msg, FutureWarning)\n"
     ]
    },
    {
     "data": {
      "image/png": "[encoded data removed]",
      "text/plain": [
       "<Figure size 1296x720 with 2 Axes>"
      ]
     },
     "metadata": {
      "needs_background": "light"
     },
     "output_type": "display_data"
    }
   ],
   "source": [
    "# Adjectives\n",
    "\n",
    "plot_dist(train, 'pct_adj', 'Proportion of adjectives', 5)"
   ]
  },
  {
   "cell_type": "code",
   "execution_count": 29,
   "metadata": {
    "colab": {
     "base_uri": "https://localhost:8080/",
     "height": 454
    },
    "id": "S-e55niSiezS",
    "outputId": "32ea449b-80a6-4883-fb84-57f715de2d26"
   },
   "outputs": [
    {
     "name": "stderr",
     "output_type": "stream",
     "text": [
      "C:\\Users\\User\\anaconda3\\lib\\site-packages\\seaborn\\distributions.py:2551: FutureWarning: `distplot` is a deprecated function and will be removed in a future version. Please adapt your code to use either `displot` (a figure-level function with similar flexibility) or `histplot` (an axes-level function for histograms).\n",
      "  warnings.warn(msg, FutureWarning)\n",
      "C:\\Users\\User\\anaconda3\\lib\\site-packages\\seaborn\\distributions.py:2551: FutureWarning: `distplot` is a deprecated function and will be removed in a future version. Please adapt your code to use either `displot` (a figure-level function with similar flexibility) or `histplot` (an axes-level function for histograms).\n",
      "  warnings.warn(msg, FutureWarning)\n"
     ]
    },
    {
     "data": {
      "image/png": "[encoded data removed]",
      "text/plain": [
       "<Figure size 1296x720 with 2 Axes>"
      ]
     },
     "metadata": {
      "needs_background": "light"
     },
     "output_type": "display_data"
    }
   ],
   "source": [
    "# Verb\n",
    "\n",
    "plot_dist(train, 'pct_verb', 'Proportion of verbs', 5)"
   ]
  },
  {
   "cell_type": "code",
   "execution_count": 30,
   "metadata": {
    "colab": {
     "base_uri": "https://localhost:8080/",
     "height": 454
    },
    "id": "0tyfiw5Kik3Q",
    "outputId": "8fa51d98-4704-4b35-ec64-fb0819e94788"
   },
   "outputs": [
    {
     "name": "stderr",
     "output_type": "stream",
     "text": [
      "C:\\Users\\User\\anaconda3\\lib\\site-packages\\seaborn\\distributions.py:2551: FutureWarning: `distplot` is a deprecated function and will be removed in a future version. Please adapt your code to use either `displot` (a figure-level function with similar flexibility) or `histplot` (an axes-level function for histograms).\n",
      "  warnings.warn(msg, FutureWarning)\n",
      "C:\\Users\\User\\anaconda3\\lib\\site-packages\\seaborn\\distributions.py:2551: FutureWarning: `distplot` is a deprecated function and will be removed in a future version. Please adapt your code to use either `displot` (a figure-level function with similar flexibility) or `histplot` (an axes-level function for histograms).\n",
      "  warnings.warn(msg, FutureWarning)\n"
     ]
    },
    {
     "data": {
      "image/png": "[encoded data removed]",
      "text/plain": [
       "<Figure size 1296x720 with 2 Axes>"
      ]
     },
     "metadata": {
      "needs_background": "light"
     },
     "output_type": "display_data"
    }
   ],
   "source": [
    "# Noun\n",
    "\n",
    "plot_dist(train, 'pct_noun', 'Proportion of nouns', 5)"
   ]
  },
  {
   "cell_type": "markdown",
   "metadata": {
    "id": "309JtvH3QS5m"
   },
   "source": [
    "### Logistic Regression Model"
   ]
  },
  {
   "cell_type": "code",
   "execution_count": 31,
   "metadata": {
    "id": "DM_4bNwVIZ7j"
   },
   "outputs": [],
   "source": [
    "labels = [\"pct_verb\", \"pct_adj\", \"pct_question\", \"pct_exclamation\", \"avg_word_len\", \"num_words\"]\n",
    "\n",
    "x_train = train[labels]\n",
    "y_train = train[\"label\"]\n",
    "x_test = test[labels]\n",
    "y_test = test[\"label\"]"
   ]
  },
  {
   "cell_type": "code",
   "execution_count": 32,
   "metadata": {
    "id": "FWVHkxetedMI"
   },
   "outputs": [],
   "source": [
    "from sklearn import preprocessing\n",
    "from sklearn.metrics import classification_report\n",
    "\n",
    "ss = preprocessing.StandardScaler()\n",
    "x_train = ss.fit_transform(x_train)\n",
    "x_test = ss.transform(x_test)"
   ]
  },
  {
   "cell_type": "code",
   "execution_count": 33,
   "metadata": {
    "colab": {
     "base_uri": "https://localhost:8080/"
    },
    "id": "vFgR_owsBOon",
    "outputId": "d87ecf55-8a86-48dc-e17b-c3be8e73db47"
   },
   "outputs": [
    {
     "name": "stdout",
     "output_type": "stream",
     "text": [
      "Confusion matrix:\n",
      "[[1061 1181]\n",
      " [ 721 4048]]\n",
      "\n",
      "Score of logistic regression model: 0.7287120239623449\n",
      "              precision    recall  f1-score   support\n",
      "\n",
      "           0       0.60      0.47      0.53      2242\n",
      "           1       0.77      0.85      0.81      4769\n",
      "\n",
      "    accuracy                           0.73      7011\n",
      "   macro avg       0.68      0.66      0.67      7011\n",
      "weighted avg       0.72      0.73      0.72      7011\n",
      "\n"
     ]
    }
   ],
   "source": [
    "logit = linear_model.LogisticRegression()\n",
    "logit.fit(x_train, y_train)\n",
    "\n",
    "y_pred = logit.predict(x_test)\n",
    "\n",
    "print(\"Confusion matrix:\")\n",
    "print(metrics.confusion_matrix(y_test, y_pred))\n",
    "print()\n",
    "\n",
    "print(\"Score of logistic regression model:\", logit.score(x_test, y_test))\n",
    "\n",
    "print(classification_report(y_test, y_pred))"
   ]
  },
  {
   "cell_type": "code",
   "execution_count": 34,
   "metadata": {
    "colab": {
     "base_uri": "https://localhost:8080/",
     "height": 388
    },
    "id": "g0xA_RqJHvyp",
    "outputId": "c4c473e0-bfc7-4e3f-8bf6-3c6746c9d09c"
   },
   "outputs": [
    {
     "name": "stdout",
     "output_type": "stream",
     "text": [
      "Feature: 0, Score: -0.23661\n",
      "Feature: 1, Score: 0.05941\n",
      "Feature: 2, Score: -0.98805\n",
      "Feature: 3, Score: -1.02203\n",
      "Feature: 4, Score: -0.39037\n",
      "Feature: 5, Score: 0.28624\n"
     ]
    },
    {
     "data": {
      "image/png": "[encoded data removed]",
      "text/plain": [
       "<Figure size 432x288 with 1 Axes>"
      ]
     },
     "metadata": {
      "needs_background": "light"
     },
     "output_type": "display_data"
    }
   ],
   "source": [
    "from matplotlib import pyplot\n",
    "\n",
    "importance = logit.coef_[0]\n",
    "\n",
    "# Summarize feature importance\n",
    "for i,v in enumerate(importance):\n",
    "    print('Feature: %0d, Score: %.5f' % (i,v))\n",
    "\n",
    "# Plot feature importance\n",
    "pyplot.barh([x for x in range(len(importance))], importance)\n",
    "pyplot.show()"
   ]
  }
 ],
 "metadata": {
  "colab": {
   "machine_shape": "hm",
   "name": "ISSS610_Project_EDA & Feature extraction",
   "provenance": []
  },
  "kernelspec": {
   "display_name": "Python 3",
   "language": "python",
   "name": "python3"
  },
  "language_info": {
   "codemirror_mode": {
    "name": "ipython",
    "version": 3
   },
   "file_extension": ".py",
   "mimetype": "text/x-python",
   "name": "python",
   "nbconvert_exporter": "python",
   "pygments_lexer": "ipython3",
   "version": "3.8.5"
  }
 },
 "nbformat": 4,
 "nbformat_minor": 1
}
