{
 "cells": [
  {
   "cell_type": "markdown",
   "metadata": {},
   "source": [
    "# Fake news detection\n",
    "## BiLSTM with GloVe"
   ]
  },
  {
   "cell_type": "code",
   "execution_count": null,
   "metadata": {
    "id": "6hxlNmjHPJfi"
   },
   "outputs": [],
   "source": [
    "import re\n",
    "from tqdm import tqdm_notebook\n",
    "from nltk.corpus import stopwords\n",
    "from tensorflow.keras import regularizers, initializers, optimizers, callbacks\n",
    "from tensorflow.keras.preprocessing.sequence import pad_sequences\n",
    "from tensorflow.keras.preprocessing.text import Tokenizer\n",
    "from tensorflow.keras.utils import to_categorical\n",
    "from tensorflow.keras.layers import *\n",
    "from tensorflow.keras.models import Sequential\n",
    "import pandas as pd\n",
    "import numpy as np"
   ]
  },
  {
   "cell_type": "code",
   "execution_count": null,
   "metadata": {
    "colab": {
     "base_uri": "https://localhost:8080/"
    },
    "id": "76JBABeWQHBI",
    "outputId": "a3d04726-3770-4604-a809-c049b7e61954"
   },
   "outputs": [
    {
     "name": "stdout",
     "output_type": "stream",
     "text": [
      "Mounted at /content/drive\n"
     ]
    }
   ],
   "source": [
    "from google.colab import drive\n",
    "drive.mount('/content/drive')"
   ]
  },
  {
   "cell_type": "code",
   "execution_count": null,
   "metadata": {
    "colab": {
     "base_uri": "https://localhost:8080/",
     "height": 204
    },
    "id": "LDxDAsHJQqWS",
    "outputId": "4778b687-c7b2-469e-9747-9de80b47194d"
   },
   "outputs": [
    {
     "data": {
      "text/html": [
       "<div>\n",
       "<style scoped>\n",
       "    .dataframe tbody tr th:only-of-type {\n",
       "        vertical-align: middle;\n",
       "    }\n",
       "\n",
       "    .dataframe tbody tr th {\n",
       "        vertical-align: top;\n",
       "    }\n",
       "\n",
       "    .dataframe thead th {\n",
       "        text-align: right;\n",
       "    }\n",
       "</style>\n",
       "<table border=\"1\" class=\"dataframe\">\n",
       "  <thead>\n",
       "    <tr style=\"text-align: right;\">\n",
       "      <th></th>\n",
       "      <th>Text</th>\n",
       "      <th>Label</th>\n",
       "    </tr>\n",
       "  </thead>\n",
       "  <tbody>\n",
       "    <tr>\n",
       "      <th>0</th>\n",
       "      <td>The son Louisiana man whose father shot killed...</td>\n",
       "      <td>1</td>\n",
       "    </tr>\n",
       "    <tr>\n",
       "      <th>1</th>\n",
       "      <td>Copies William Shakespeare first four books du...</td>\n",
       "      <td>1</td>\n",
       "    </tr>\n",
       "    <tr>\n",
       "      <th>2</th>\n",
       "      <td>Debt 20 000 Source College credit cards Estima...</td>\n",
       "      <td>1</td>\n",
       "    </tr>\n",
       "    <tr>\n",
       "      <th>3</th>\n",
       "      <td>It late. I drunk nearing 35th birthday past Ma...</td>\n",
       "      <td>1</td>\n",
       "    </tr>\n",
       "    <tr>\n",
       "      <th>4</th>\n",
       "      <td>A central Texas man serving life sentence doub...</td>\n",
       "      <td>1</td>\n",
       "    </tr>\n",
       "  </tbody>\n",
       "</table>\n",
       "</div>"
      ],
      "text/plain": [
       "                                                Text  Label\n",
       "0  The son Louisiana man whose father shot killed...      1\n",
       "1  Copies William Shakespeare first four books du...      1\n",
       "2  Debt 20 000 Source College credit cards Estima...      1\n",
       "3  It late. I drunk nearing 35th birthday past Ma...      1\n",
       "4  A central Texas man serving life sentence doub...      1"
      ]
     },
     "execution_count": 4,
     "metadata": {
      "tags": []
     },
     "output_type": "execute_result"
    }
   ],
   "source": [
    "df = pd.read_csv('/content/drive/MyDrive/Preprocessed_Train.csv')\n",
    "df_val = pd.read_csv('/content/drive/MyDrive/Preprocessed_Valid.csv')\n",
    "df_test = pd.read_csv('/content/drive/MyDrive/Preprocessed_Test.csv')\n",
    "\n",
    "df_test.head()"
   ]
  },
  {
   "cell_type": "code",
   "execution_count": null,
   "metadata": {
    "id": "3odjtG8RPJfr"
   },
   "outputs": [],
   "source": [
    "texts=df['Text'].tolist()\n",
    "y_train=np.array(df['Label'])"
   ]
  },
  {
   "cell_type": "code",
   "execution_count": null,
   "metadata": {
    "id": "HO5Kp_cmPJfr"
   },
   "outputs": [],
   "source": [
    "texts_val=df_val['Text'].tolist()\n",
    "y_val=np.array(df_val['Label'])"
   ]
  },
  {
   "cell_type": "code",
   "execution_count": null,
   "metadata": {
    "id": "FpucvQ5pPJfs"
   },
   "outputs": [],
   "source": [
    "texts_test=df_test['Text'].tolist()\n",
    "y_test=np.array(df_test['Label'])"
   ]
  },
  {
   "cell_type": "code",
   "execution_count": null,
   "metadata": {
    "id": "Q32Av0jBPJfs"
   },
   "outputs": [],
   "source": [
    "# MAX_NB_WORDS = 100000 # max number of words for tokenizer\n",
    "MAX_LEN = 4533 # max length of each sentences, including padding\n",
    "# VALIDATION_SPLIT = 0.2 # 20% of data for validation (not used in training)\n",
    "EMBEDDING_DIM = 200 # embedding dimensions for word vectors"
   ]
  },
  {
   "cell_type": "code",
   "execution_count": null,
   "metadata": {
    "id": "0euQCTrvWF0F"
   },
   "outputs": [],
   "source": [
    "def get_word_ind(texts):\n",
    "    tokenizer = Tokenizer(lower=True)\n",
    "    tokenizer.fit_on_texts(texts)\n",
    "    word_index = tokenizer.word_index\n",
    "    print('Vocabulary size:', len(word_index))\n",
    "    return word_index"
   ]
  },
  {
   "cell_type": "code",
   "execution_count": null,
   "metadata": {
    "colab": {
     "base_uri": "https://localhost:8080/"
    },
    "id": "SuKTmeqnWmGJ",
    "outputId": "11b678a3-d74f-428c-eba5-e0981110a44f"
   },
   "outputs": [
    {
     "name": "stdout",
     "output_type": "stream",
     "text": [
      "Vocabulary size: 376743\n"
     ]
    }
   ],
   "source": [
    "df_conc=pd.concat([df['Text'], df_val['Text'], df_test['Text']], ignore_index=True)\n",
    "texts_conc=df_conc.tolist()\n",
    "word_ind=get_word_ind(texts_conc)"
   ]
  },
  {
   "cell_type": "code",
   "execution_count": null,
   "metadata": {
    "id": "b_kEQgZHPJfu"
   },
   "outputs": [],
   "source": [
    "def tokenize(texts,MAX_LEN):\n",
    "    tokenizer = Tokenizer(lower=True)\n",
    "    tokenizer.fit_on_texts(texts)\n",
    "    sequences = tokenizer.texts_to_sequences(texts)\n",
    "    # word_index = tokenizer.word_index\n",
    "    # print('Vocabulary size:', len(word_index))\n",
    "    data = pad_sequences(sequences, padding = 'post', maxlen = MAX_LEN)\n",
    "    print('Shape of data tensor:', data.shape)\n",
    "    return data"
   ]
  },
  {
   "cell_type": "code",
   "execution_count": null,
   "metadata": {
    "colab": {
     "base_uri": "https://localhost:8080/"
    },
    "id": "5eY-pdPIPJfv",
    "outputId": "11e1abc9-1ee5-41ba-c784-430d290e52cb"
   },
   "outputs": [
    {
     "name": "stdout",
     "output_type": "stream",
     "text": [
      "Shape of data tensor: (63616, 4533)\n",
      "Shape of data tensor: (15905, 4533)\n",
      "Shape of data tensor: (7011, 4533)\n"
     ]
    }
   ],
   "source": [
    "x_train = tokenize(texts, MAX_LEN)\n",
    "x_val = tokenize(texts_val, MAX_LEN)\n",
    "x_test = tokenize(texts_test, MAX_LEN)"
   ]
  },
  {
   "cell_type": "code",
   "execution_count": null,
   "metadata": {
    "id": "RLLrAm8-PJfw"
   },
   "outputs": [],
   "source": [
    "embeddings_dict = {}\n",
    "with open(\"/content/drive/MyDrive/glove.6B.200d.txt\", 'r') as f:\n",
    "    for line in f:\n",
    "        values = line.split()\n",
    "        word = values[0]\n",
    "        vector = np.asarray(values[1:], \"float32\")\n",
    "        embeddings_dict[word] = vector"
   ]
  },
  {
   "cell_type": "code",
   "execution_count": null,
   "metadata": {
    "id": "ZboedMe-PJfw"
   },
   "outputs": [],
   "source": [
    "embedding_matrix = np.random.random((len(word_ind) + 1, EMBEDDING_DIM))\n",
    "for word, i in word_ind.items():\n",
    "    embedding_vector = embeddings_dict.get(word)\n",
    "    if embedding_vector is not None:\n",
    "        embedding_matrix[i] = embedding_vector"
   ]
  },
  {
   "cell_type": "code",
   "execution_count": null,
   "metadata": {
    "id": "Z3f6TzJcPJfw"
   },
   "outputs": [],
   "source": [
    "# Create LSTM model\n",
    "\n",
    "model = Sequential()\n",
    "# model.add(InputLayer(input_shape=(MAX_LEN,), dtype='int32'))\n",
    "model.add(Embedding(len(word_ind) + 1,\n",
    "          EMBEDDING_DIM,\n",
    "          weights = [embedding_matrix],\n",
    "          input_length = MAX_LEN,\n",
    "          trainable=False,\n",
    "          name = 'embeddings'))\n",
    "# model.add(Bidirectional(LSTM(128,name='lstm_layer', return_sequences=True)))\n",
    "# model.add(GlobalMaxPool1D())\n",
    "# model.add(Dropout(0.2))\n",
    "model.add(Bidirectional(LSTM(128,name='lstm_layer2')))\n",
    "# model.add(Dense(32, activation='relu'))\n",
    "model.add(Dropout(0.3))\n",
    "model.add(Dense(1, activation='sigmoid'))"
   ]
  },
  {
   "cell_type": "code",
   "execution_count": null,
   "metadata": {
    "id": "le39794mPJfw"
   },
   "outputs": [],
   "source": [
    "model.compile(optimizer = 'adam', loss = 'binary_crossentropy', metrics = ['accuracy'])"
   ]
  },
  {
   "cell_type": "code",
   "execution_count": null,
   "metadata": {
    "colab": {
     "base_uri": "https://localhost:8080/"
    },
    "id": "bnohtiQBPJfx",
    "outputId": "0d276ca9-48d0-4452-df61-bc1a60965427"
   },
   "outputs": [
    {
     "name": "stdout",
     "output_type": "stream",
     "text": [
      "Epoch 1/3\n",
      "497/497 [==============================] - 397s 795ms/step - loss: 0.4875 - accuracy: 0.7583 - val_loss: 0.6616 - val_accuracy: 0.6939\n",
      "Epoch 2/3\n",
      "497/497 [==============================] - 393s 792ms/step - loss: 0.2987 - accuracy: 0.8724 - val_loss: 0.7534 - val_accuracy: 0.6922\n",
      "Epoch 3/3\n",
      "497/497 [==============================] - 394s 793ms/step - loss: 0.1880 - accuracy: 0.9249 - val_loss: 0.6972 - val_accuracy: 0.6936\n"
     ]
    }
   ],
   "source": [
    "history = model.fit(x_train, y_train, epochs = 3, batch_size = 128, validation_data = (x_val, y_val), shuffle = True)"
   ]
  },
  {
   "cell_type": "code",
   "execution_count": null,
   "metadata": {
    "colab": {
     "base_uri": "https://localhost:8080/",
     "height": 295
    },
    "id": "LEGkXntFFqr1",
    "outputId": "8521478f-b775-4f6c-d869-8824f03d0261"
   },
   "outputs": [
    {
     "data": {
      "image/png": "[encoded data removed]",
      "text/plain": [
       "<Figure size 432x288 with 1 Axes>"
      ]
     },
     "metadata": {
      "needs_background": "light",
      "tags": []
     },
     "output_type": "display_data"
    }
   ],
   "source": [
    "import matplotlib.pyplot as plt\n",
    "%matplotlib inline\n",
    "loss = history.history['loss']\n",
    "val_loss = history.history['val_loss']\n",
    "epochs = range(1, len(loss)+1)\n",
    "plt.plot(epochs, loss, label='Training loss')\n",
    "plt.plot(epochs, val_loss, label='Validation loss')\n",
    "plt.title('Training and validation loss')\n",
    "plt.xlabel('Epochs')\n",
    "plt.ylabel('Loss')\n",
    "plt.legend()\n",
    "plt.show();"
   ]
  },
  {
   "cell_type": "code",
   "execution_count": null,
   "metadata": {
    "colab": {
     "base_uri": "https://localhost:8080/",
     "height": 295
    },
    "id": "O7vM0DPbF-Jd",
    "outputId": "dc83c11f-17f9-4b38-d9b7-f5ab8ab69b5b"
   },
   "outputs": [
    {
     "data": {
      "image/png": "[encoded data removed]",
      "text/plain": [
       "<Figure size 432x288 with 1 Axes>"
      ]
     },
     "metadata": {
      "needs_background": "light",
      "tags": []
     },
     "output_type": "display_data"
    }
   ],
   "source": [
    "accuracy = history.history['accuracy']\n",
    "val_accuracy = history.history['val_accuracy']\n",
    "plt.plot(epochs, accuracy, label='Training accuracy')\n",
    "plt.plot(epochs, val_accuracy, label='Validation accuracy')\n",
    "plt.title('Training and validation accuracy')\n",
    "plt.ylabel('Accuracy')\n",
    "plt.xlabel('Epochs')\n",
    "plt.legend()\n",
    "plt.show();"
   ]
  },
  {
   "cell_type": "code",
   "execution_count": null,
   "metadata": {
    "id": "s3iI4YKXPJfx"
   },
   "outputs": [],
   "source": [
    "pred = model.predict(x_test, batch_size=128)"
   ]
  },
  {
   "cell_type": "code",
   "execution_count": null,
   "metadata": {
    "id": "8dIgr3upuOCG"
   },
   "outputs": [],
   "source": [
    "pred_labels = np.where(pred > 0.5, 1,0)"
   ]
  },
  {
   "cell_type": "code",
   "execution_count": null,
   "metadata": {
    "colab": {
     "base_uri": "https://localhost:8080/",
     "height": 111
    },
    "id": "JNE0CJZwIBqJ",
    "outputId": "a5e85a88-5818-4454-f693-e35ed53b5213"
   },
   "outputs": [
    {
     "data": {
      "text/html": [
       "<div>\n",
       "<style scoped>\n",
       "    .dataframe tbody tr th:only-of-type {\n",
       "        vertical-align: middle;\n",
       "    }\n",
       "\n",
       "    .dataframe tbody tr th {\n",
       "        vertical-align: top;\n",
       "    }\n",
       "\n",
       "    .dataframe thead th {\n",
       "        text-align: right;\n",
       "    }\n",
       "</style>\n",
       "<table border=\"1\" class=\"dataframe\">\n",
       "  <thead>\n",
       "    <tr style=\"text-align: right;\">\n",
       "      <th></th>\n",
       "      <th>0</th>\n",
       "      <th>1</th>\n",
       "    </tr>\n",
       "  </thead>\n",
       "  <tbody>\n",
       "    <tr>\n",
       "      <th>0</th>\n",
       "      <td>855</td>\n",
       "      <td>1387</td>\n",
       "    </tr>\n",
       "    <tr>\n",
       "      <th>1</th>\n",
       "      <td>862</td>\n",
       "      <td>3907</td>\n",
       "    </tr>\n",
       "  </tbody>\n",
       "</table>\n",
       "</div>"
      ],
      "text/plain": [
       "     0     1\n",
       "0  855  1387\n",
       "1  862  3907"
      ]
     },
     "execution_count": 73,
     "metadata": {
      "tags": []
     },
     "output_type": "execute_result"
    }
   ],
   "source": [
    "from sklearn.metrics import classification_report, confusion_matrix\n",
    "y_test = y_test.flatten()\n",
    "pred_labels = pred_labels.flatten()\n",
    "pd.DataFrame(confusion_matrix(y_test,pred_labels))"
   ]
  },
  {
   "cell_type": "code",
   "execution_count": null,
   "metadata": {
    "colab": {
     "base_uri": "https://localhost:8080/"
    },
    "id": "534t40JwIYc4",
    "outputId": "4ad70188-46eb-41fd-fb23-33cc5e64199f"
   },
   "outputs": [
    {
     "name": "stdout",
     "output_type": "stream",
     "text": [
      "              precision    recall  f1-score   support\n",
      "\n",
      "           0       0.50      0.38      0.43      2242\n",
      "           1       0.74      0.82      0.78      4769\n",
      "\n",
      "    accuracy                           0.68      7011\n",
      "   macro avg       0.62      0.60      0.60      7011\n",
      "weighted avg       0.66      0.68      0.67      7011\n",
      "\n"
     ]
    }
   ],
   "source": [
    "print(classification_report(y_test,pred_labels))"
   ]
  }
 ],
 "metadata": {
  "accelerator": "GPU",
  "colab": {
   "collapsed_sections": [],
   "machine_shape": "hm",
   "name": "LSTM_fakenews.ipynb",
   "provenance": []
  },
  "kernelspec": {
   "display_name": "Python 3",
   "language": "python",
   "name": "python3"
  },
  "language_info": {
   "codemirror_mode": {
    "name": "ipython",
    "version": 3
   },
   "file_extension": ".py",
   "mimetype": "text/x-python",
   "name": "python",
   "nbconvert_exporter": "python",
   "pygments_lexer": "ipython3",
   "version": "3.8.5"
  }
 },
 "nbformat": 4,
 "nbformat_minor": 1
}
